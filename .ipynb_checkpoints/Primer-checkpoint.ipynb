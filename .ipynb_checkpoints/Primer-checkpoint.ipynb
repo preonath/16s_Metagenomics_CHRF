{
 "cells": [
  {
   "cell_type": "code",
   "execution_count": 4,
   "id": "4f75d208-bde9-41fd-b3cf-8765305c88ee",
   "metadata": {
    "tags": []
   },
   "outputs": [
    {
     "name": "stdout",
     "output_type": "stream",
     "text": [
      "25\n",
      "23\n"
     ]
    }
   ],
   "source": [
    "#Hexon F\n",
    "\n",
    "print(len(\"GCCCCAGTGGTCTTACATGCACATC\"))\n",
    "\n",
    "#Hexon R\n",
    "print(len(\"GCCACGGTGGGGTTTCTAAACTT\"))"
   ]
  }
 ],
 "metadata": {
  "kernelspec": {
   "display_name": "Python 3 (ipykernel)",
   "language": "python",
   "name": "python3"
  },
  "language_info": {
   "codemirror_mode": {
    "name": "ipython",
    "version": 3
   },
   "file_extension": ".py",
   "mimetype": "text/x-python",
   "name": "python",
   "nbconvert_exporter": "python",
   "pygments_lexer": "ipython3",
   "version": "3.8.16"
  }
 },
 "nbformat": 4,
 "nbformat_minor": 5
}
